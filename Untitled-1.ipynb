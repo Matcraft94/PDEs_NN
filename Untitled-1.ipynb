{
 "cells": [
  {
   "cell_type": "code",
   "execution_count": 1,
   "metadata": {},
   "outputs": [],
   "source": [
    "import torch\n",
    "import numpy as np"
   ]
  },
  {
   "cell_type": "code",
   "execution_count": 2,
   "metadata": {},
   "outputs": [],
   "source": [
    "import matplotlib.pyplot as plt\n",
    "%matplotlib inline"
   ]
  },
  {
   "cell_type": "code",
   "execution_count": 3,
   "metadata": {},
   "outputs": [
    {
     "name": "stdout",
     "output_type": "stream",
     "text": [
      "Using  cuda\n"
     ]
    }
   ],
   "source": [
    "device = 'cuda' if torch.cuda.is_available() else 'cpu'\n",
    "print('Using ',device)"
   ]
  },
  {
   "cell_type": "code",
   "execution_count": 4,
   "metadata": {},
   "outputs": [],
   "source": [
    "# Loss function\n",
    "def loss(model, inputs, targets):\n",
    "    predictions = model(inputs)\n",
    "    loss_value = torch.mean((predictions - targets)**2)\n",
    "    return loss_value"
   ]
  },
  {
   "cell_type": "code",
   "execution_count": 5,
   "metadata": {},
   "outputs": [],
   "source": [
    "# Define a class for the model\n",
    "class PendulumModel(torch.nn.Module):\n",
    "    # Define the constructor\n",
    "    def __init__(self, input_dim=2, output_dim=1, hidden_layers=3, hidden_units=32):\n",
    "        # Call the constructor of the parent class\n",
    "        super(PendulumModel, self).__init__()\n",
    "        # Create a list of layers\n",
    "        self.layers = torch.nn.ModuleList()\n",
    "        # Add the first layer\n",
    "        self.layers.append(torch.nn.Linear(input_dim, hidden_units))\n",
    "        # Add the hidden layers\n",
    "        for _ in range(hidden_layers):\n",
    "            self.layers.append(torch.nn.Linear(hidden_units, hidden_units))\n",
    "        # Add the output layer\n",
    "        self.layers.append(torch.nn.Linear(hidden_units, output_dim))\n",
    "\n",
    "    # Define the forward pass\n",
    "    def forward(self, inputs):\n",
    "        # Initialize the input\n",
    "        x = inputs\n",
    "        # Loop over the hidden layers\n",
    "        for layer in self.layers[:-1]:\n",
    "            x = torch.tanh(layer(x))\n",
    "        return self.layers[-1](x)\n"
   ]
  },
  {
   "cell_type": "code",
   "execution_count": null,
   "metadata": {},
   "outputs": [],
   "source": [
    "# Define a class for a multi-layer fully connected neural network \n",
    "class PendulumModel(torch.nn.Module):\n",
    "   \n",
    "    def __init__(self, input_dim=2, output_dim=1, hidden_layers=3, hidden_units=32):\n",
    "        super().__init__()\n",
    "        \n",
    "        # List of layers\n",
    "        layers = []\n",
    "        \n",
    "        # Add the first layer\n",
    "        layers += [torch.nn.Linear(input_dim, hidden_units), torch.nn.Tanh()]\n",
    "        \n",
    "        # Loop for hidden layers\n",
    "        for l in range(hidden_layers-1):\n",
    "            layers += [torch.nn.Linear(hidden_units, hidden_units), torch.nn.Tanh()]\n",
    "            \n",
    "        # Add the output layer\n",
    "        layers += [torch.nn.Linear(hidden_units, output_dim)]\n",
    "        \n",
    "        # Connect the layers in a Linear stack\n",
    "        self.layers = torch.nn.Sequential(*layers)\n",
    "\n",
    "    # Define the forward method\n",
    "    def forward(self, inputs):\n",
    "        return self.layers(inputs)"
   ]
  },
  {
   "cell_type": "code",
   "execution_count": 6,
   "metadata": {},
   "outputs": [],
   "source": [
    "# Constants\n",
    "g = 9.81\n",
    "L = 1.0\n",
    "T = 10.0\n",
    "num_steps = 1000\n",
    "num_points = 500"
   ]
  },
  {
   "cell_type": "code",
   "execution_count": 7,
   "metadata": {},
   "outputs": [],
   "source": [
    "# Train data\n",
    "t_train = np.linspace(0, T, num_steps)\n",
    "theta_train = np.random.uniform(low=-np.pi, high=np.pi, size=(num_steps, 1))\n",
    "inputs_train = torch.from_numpy(np.hstack((t_train.reshape(-1, 1), theta_train))).float()\n",
    "targets_train = torch.zeros((num_steps, 1))\n",
    "\n",
    "t_test = np.linspace(0, T, num_points)\n",
    "theta_test = np.linspace(-np.pi, np.pi, num_points)\n",
    "inputs_test = torch.from_numpy(np.transpose([np.tile(t_test, len(theta_test)), np.repeat(theta_test, len(t_test))])).float()\n",
    "targets_test = torch.zeros((num_points, 1))"
   ]
  },
  {
   "cell_type": "code",
   "execution_count": 8,
   "metadata": {},
   "outputs": [],
   "source": [
    "model = PendulumModel(hidden_layers=3, hidden_units=32)"
   ]
  },
  {
   "cell_type": "code",
   "execution_count": 9,
   "metadata": {},
   "outputs": [],
   "source": [
    "# Optimizer\n",
    "optimizer = torch.optim.Adam(model.parameters())"
   ]
  },
  {
   "cell_type": "code",
   "execution_count": 10,
   "metadata": {},
   "outputs": [
    {
     "name": "stdout",
     "output_type": "stream",
     "text": [
      "Iteración 0: pérdida = 0.002520703012123704\n",
      "Iteración 100: pérdida = 2.6048148811241845e-06\n",
      "Iteración 200: pérdida = 9.583698101778282e-07\n",
      "Iteración 300: pérdida = 3.9175810684355383e-07\n",
      "Iteración 400: pérdida = 2.2760519868825213e-07\n",
      "Iteración 500: pérdida = 1.752657254883161e-07\n",
      "Iteración 600: pérdida = 1.4851303831164842e-07\n",
      "Iteración 700: pérdida = 1.300894894029625e-07\n",
      "Iteración 800: pérdida = 1.1573378344564844e-07\n",
      "Iteración 900: pérdida = 1.0379481807376578e-07\n",
      "Iteración 1000: pérdida = 9.351090568543441e-08\n",
      "Iteración 1100: pérdida = 8.450556521211183e-08\n",
      "Iteración 1200: pérdida = 7.656609568584827e-08\n",
      "Iteración 1300: pérdida = 6.954955722449085e-08\n",
      "Iteración 1400: pérdida = 6.334245483685663e-08\n",
      "Iteración 1500: pérdida = 5.7848517087677465e-08\n",
      "Iteración 1600: pérdida = 5.2979803655262e-08\n",
      "Iteración 1700: pérdida = 4.865974290169106e-08\n",
      "Iteración 1800: pérdida = 4.4816246713708097e-08\n",
      "Iteración 1900: pérdida = 4.138586717772341e-08\n",
      "Iteración 2000: pérdida = 3.8313345385176945e-08\n",
      "Iteración 2100: pérdida = 1.2007376426481642e-06\n",
      "Iteración 2200: pérdida = 3.1651648413344446e-08\n",
      "Iteración 2300: pérdida = 2.9048557337318925e-08\n",
      "Iteración 2400: pérdida = 2.7091976662063644e-08\n",
      "Iteración 2500: pérdida = 1.534371847355942e-07\n",
      "Iteración 2600: pérdida = 2.6670466723999198e-08\n",
      "Iteración 2700: pérdida = 2.1141065786878244e-08\n",
      "Iteración 2800: pérdida = 1.930903259506067e-08\n",
      "Iteración 2900: pérdida = 1.7983770916885078e-08\n",
      "Iteración 3000: pérdida = 1.689697803897161e-08\n",
      "Iteración 3100: pérdida = 1.594868770382618e-08\n",
      "Iteración 3200: pérdida = 1.0323164900682968e-07\n",
      "Iteración 3300: pérdida = 1.4546539972570827e-08\n",
      "Iteración 3400: pérdida = 1.3189315417605485e-08\n",
      "Iteración 3500: pérdida = 1.2281910599654111e-08\n",
      "Iteración 3600: pérdida = 1.1553587420110034e-08\n",
      "Iteración 3700: pérdida = 3.408113613545538e-08\n",
      "Iteración 3800: pérdida = 1.6099127364554988e-08\n",
      "Iteración 3900: pérdida = 1.113716407985521e-08\n",
      "Iteración 4000: pérdida = 9.690126034911373e-09\n",
      "Iteración 4100: pérdida = 8.769287518362034e-09\n",
      "Iteración 4200: pérdida = 8.084422020715465e-09\n",
      "Iteración 4300: pérdida = 7.531686385675584e-09\n",
      "Iteración 4400: pérdida = 7.063627016634655e-09\n",
      "Iteración 4500: pérdida = 6.6547145571860256e-09\n",
      "Iteración 4600: pérdida = 8.815807461814984e-08\n",
      "Iteración 4700: pérdida = 6.8027175004203855e-09\n",
      "Iteración 4800: pérdida = 6.0458154038656176e-09\n",
      "Iteración 4900: pérdida = 5.55399592983008e-09\n",
      "CPU times: total: 15min 2s\n",
      "Wall time: 4min 58s\n"
     ]
    }
   ],
   "source": [
    "%%time\n",
    "\n",
    "for i in range(5000):\n",
    "    # Calcular la pérdida y los gradientes\n",
    "    loss_value = loss(model, inputs_train, targets_train)\n",
    "    optimizer.zero_grad()\n",
    "    loss_value.backward()\n",
    "    optimizer.step()\n",
    "\n",
    "    # Evaluar el modelo en los puntos de prueba\n",
    "    predictions_test = model(inputs_test)\n",
    "\n",
    "    # Imprimir la pérdida cada 100 iteraciones\n",
    "    if i % 100 == 0:\n",
    "        print(f\"Iteración {i}: pérdida = {loss_value.item()}\")"
   ]
  },
  {
   "cell_type": "code",
   "execution_count": 21,
   "metadata": {},
   "outputs": [
    {
     "data": {
      "text/plain": [
       "torch.Size([250000])"
      ]
     },
     "execution_count": 21,
     "metadata": {},
     "output_type": "execute_result"
    }
   ],
   "source": [
    "inputs_test[...,0].size()"
   ]
  },
  {
   "cell_type": "code",
   "execution_count": 22,
   "metadata": {},
   "outputs": [
    {
     "data": {
      "text/plain": [
       "torch.Size([250000])"
      ]
     },
     "execution_count": 22,
     "metadata": {},
     "output_type": "execute_result"
    }
   ],
   "source": [
    "model(inputs_test)[...,0].size()"
   ]
  },
  {
   "cell_type": "code",
   "execution_count": 25,
   "metadata": {},
   "outputs": [
    {
     "data": {
      "text/plain": [
       "(500,)"
      ]
     },
     "execution_count": 25,
     "metadata": {},
     "output_type": "execute_result"
    }
   ],
   "source": [
    "theta_test.shape"
   ]
  },
  {
   "cell_type": "code",
   "execution_count": 27,
   "metadata": {},
   "outputs": [
    {
     "data": {
      "image/png": "[encoded data removed]",
      "text/plain": [
       "<Figure size 640x480 with 1 Axes>"
      ]
     },
     "metadata": {},
     "output_type": "display_data"
    }
   ],
   "source": [
    "theta_pred = model(inputs_test).detach().numpy()\n",
    "plt.plot(theta_test, theta_pred, 'b.')\n",
    "plt.plot([-np.pi, np.pi], [-np.pi, np.pi], 'k--')\n",
    "plt.xlabel('Ángulo verdadero')\n",
    "plt.ylabel('Ángulo predicho')\n",
    "plt.show()"
   ]
  }
 ],
 "metadata": {
  "kernelspec": {
   "display_name": "PDEs",
   "language": "python",
   "name": "python3"
  },
  "language_info": {
   "codemirror_mode": {
    "name": "ipython",
    "version": 3
   },
   "file_extension": ".py",
   "mimetype": "text/x-python",
   "name": "python",
   "nbconvert_exporter": "python",
   "pygments_lexer": "ipython3",
   "version": "3.10.9"
  },
  "orig_nbformat": 4
 },
 "nbformat": 4,
 "nbformat_minor": 2
}
