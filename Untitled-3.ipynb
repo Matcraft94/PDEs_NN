{
 "cells": [
  {
   "cell_type": "code",
   "execution_count": 1,
   "metadata": {},
   "outputs": [],
   "source": [
    "import torch\n",
    "import numpy as np\n",
    "import meshpy.triangle as triangle"
   ]
  },
  {
   "cell_type": "code",
   "execution_count": 2,
   "metadata": {},
   "outputs": [
    {
     "name": "stdout",
     "output_type": "stream",
     "text": [
      "Se esta utilizando  cuda\n"
     ]
    }
   ],
   "source": [
    "device = 'cuda' if torch.cuda.is_available() else 'cpu'\n",
    "print('Se esta utilizando ', device)"
   ]
  },
  {
   "cell_type": "code",
   "execution_count": 4,
   "metadata": {},
   "outputs": [
    {
     "ename": "TypeError",
     "evalue": "triangulate(): incompatible function arguments. The following argument types are supported:\n    1. (arg0: str, arg1: tMeshInfo, arg2: tMeshInfo, arg3: tMeshInfo, arg4: object) -> None\n\nInvoked with: 'pzjqQaa0.01000000000000000194n', {'vertices': [[1.0, 0.0], [0.9950041652780258, 0.09983341664682815], [0.9800665778412416, 0.19866933079506122], [0.955336489125606, 0.2955202066613396], [0.9210609940028851, 0.3894183423086505], [0.8775825618903728, 0.479425538604203], [0.8253356149096782, 0.5646424733950355], [0.7648421872844884, 0.6442176872376911], [0.6967067093471654, 0.7173560908995228], [0.6216099682706644, 0.7833269096274834], [0.5403023058681398, 0.8414709848078965], [0.4535961214255773, 0.8912073600614354], [0.3623577544766734, 0.9320390859672264], [0.26749882862458735, 0.963558185417193], [0.16996714290024081, 0.9854497299884603], [0.0707372016677029, 0.9974949866040544], [-0.029199522301288815, 0.9995736030415051], [-0.12884449429552486, 0.9916648104524686], [-0.2272020946930871, 0.9738476308781951], [-0.3232895668635036, 0.9463000876874145], [-0.4161468365471424, 0.9092974268256817], [-0.5048461045998576, 0.8632093666488737], [-0.5885011172553458, 0.8084964038195901], [-0.6662760212798244, 0.74570521217672], [-0.7373937155412458, 0.6754631805511506], [-0.8011436155469337, 0.5984721441039564], [-0.8568887533689473, 0.5155013718214642], [-0.9040721420170612, 0.4273798802338298], [-0.9422223406686583, 0.33498815015590466], [-0.9709581651495907, 0.23924932921398198], [-0.9899924966004454, 0.1411200080598672], [-0.9991351502732795, 0.04158066243329049], [-0.9982947757947531, -0.058374143427580086], [-0.9874797699088649, -0.15774569414324865], [-0.9667981925794609, -0.25554110202683167], [-0.9364566872907963, -0.35078322768961984], [-0.896758416334147, -0.44252044329485246], [-0.848100031710408, -0.5298361409084934], [-0.7909677119144165, -0.6118578909427193], [-0.7259323042001399, -0.6877661591839741], [-0.6536436208636119, -0.7568024953079282], [-0.5748239465332685, -0.8182771110644108], [-0.4902608213406994, -0.8715757724135882], [-0.40079917207997545, -0.9161659367494549], [-0.30733286997841935, -0.9516020738895161], [-0.2107957994307797, -0.977530117665097], [-0.11215252693505398, -0.9936910036334645], [-0.01238866346289056, -0.9999232575641008], [0.08749898343944727, -0.9961646088358406], [0.18651236942257576, -0.9824526126243325], [0.28366218546322625, -0.9589242746631385], [0.37797774271298107, -0.9258146823277321], [0.4685166713003771, -0.8834546557201531], [0.5543743361791615, -0.8322674422239008], [0.6346928759426347, -0.7727644875559871], [0.70866977429126, -0.7055403255703919], [0.7755658785102502, -0.6312666378723208], [0.8347127848391598, -0.5506855425976376], [0.8855195169413194, -0.4646021794137566], [0.9274784307440359, -0.373876664830236], [0.960170286650366, -0.27941549819892586], [0.9832684384425847, -0.18216250427209502]], 'segments': [[0, 1], [1, 2], [2, 3], [3, 4], [4, 5], [5, 6], [6, 7], [7, 8], [8, 9], [9, 10], [10, 11], [11, 12], [12, 13], [13, 14], [14, 15], [15, 16], [16, 17], [17, 18], [18, 19], [19, 20], [20, 21], [21, 22], [22, 23], [23, 24], [24, 25], [25, 26], [26, 27], [27, 28], [28, 29], [29, 30], [30, 31], [31, 32], [32, 33], [33, 34], [34, 35], [35, 36], [36, 37], [37, 38], [38, 39], [39, 40], [40, 41], [41, 42], [42, 43], [43, 44], [44, 45], [45, 46], [46, 47], [47, 48], [48, 49], [49, 50], [50, 51], [51, 52], [52, 53], [53, 54], [54, 55], [55, 56], [56, 57], [57, 58], [58, 59], [59, 60], [60, 61], [61, 0]]}, <meshpy.triangle.MeshInfo object at 0x00000250A50AFC90>, <meshpy.triangle.MeshInfo object at 0x00000250A50AFBF0>, None",
     "output_type": "error",
     "traceback": [
      "\u001b[1;31m---------------------------------------------------------------------------\u001b[0m",
      "\u001b[1;31mTypeError\u001b[0m                                 Traceback (most recent call last)",
      "Cell \u001b[1;32mIn[4], line 26\u001b[0m\n\u001b[0;32m     22\u001b[0m segments\u001b[39m.\u001b[39mappend([\u001b[39mlen\u001b[39m(points)\u001b[39m-\u001b[39m\u001b[39m1\u001b[39m, \u001b[39m0\u001b[39m])\n\u001b[0;32m     24\u001b[0m \u001b[39m# Crear la malla triangular del círculo\u001b[39;00m\n\u001b[0;32m     25\u001b[0m \u001b[39m# mesh = triangle.build({'vertices': points, 'segments': segments}, max_volume=h**2)\u001b[39;00m\n\u001b[1;32m---> 26\u001b[0m mesh \u001b[39m=\u001b[39m triangle\u001b[39m.\u001b[39;49mbuild({\u001b[39m'\u001b[39;49m\u001b[39mvertices\u001b[39;49m\u001b[39m'\u001b[39;49m: points, \u001b[39m'\u001b[39;49m\u001b[39msegments\u001b[39;49m\u001b[39m'\u001b[39;49m: segments}, max_volume\u001b[39m=\u001b[39;49mh\u001b[39m*\u001b[39;49m\u001b[39m*\u001b[39;49m\u001b[39m2\u001b[39;49m, volume_constraints\u001b[39m=\u001b[39;49m\u001b[39mTrue\u001b[39;49;00m)\n\u001b[0;32m     29\u001b[0m \u001b[39m# Extraer los puntos y las caras de la malla triangular\u001b[39;00m\n\u001b[0;32m     30\u001b[0m x \u001b[39m=\u001b[39m mesh\u001b[39m.\u001b[39mpoints\n",
      "File \u001b[1;32mc:\\Users\\mated\\anaconda3\\envs\\PDEs\\lib\\site-packages\\meshpy\\triangle.py:184\u001b[0m, in \u001b[0;36mbuild\u001b[1;34m(mesh_info, verbose, refinement_func, attributes, volume_constraints, max_volume, allow_boundary_steiner, allow_volume_steiner, quality_meshing, generate_edges, generate_faces, min_angle, mesh_order, generate_neighbor_lists)\u001b[0m\n\u001b[0;32m    182\u001b[0m \u001b[39mtry\u001b[39;00m:\n\u001b[0;32m    183\u001b[0m     mesh \u001b[39m=\u001b[39m MeshInfo()\n\u001b[1;32m--> 184\u001b[0m     internals\u001b[39m.\u001b[39;49mtriangulate(opts, mesh_info, mesh, MeshInfo(), refinement_func)\n\u001b[0;32m    185\u001b[0m \u001b[39mfinally\u001b[39;00m:\n\u001b[0;32m    186\u001b[0m     \u001b[39m# restore previous locale if we've changed it\u001b[39;00m\n\u001b[0;32m    187\u001b[0m     \u001b[39mif\u001b[39;00m have_locale:\n",
      "\u001b[1;31mTypeError\u001b[0m: triangulate(): incompatible function arguments. The following argument types are supported:\n    1. (arg0: str, arg1: tMeshInfo, arg2: tMeshInfo, arg3: tMeshInfo, arg4: object) -> None\n\nInvoked with: 'pzjqQaa0.01000000000000000194n', {'vertices': [[1.0, 0.0], [0.9950041652780258, 0.09983341664682815], [0.9800665778412416, 0.19866933079506122], [0.955336489125606, 0.2955202066613396], [0.9210609940028851, 0.3894183423086505], [0.8775825618903728, 0.479425538604203], [0.8253356149096782, 0.5646424733950355], [0.7648421872844884, 0.6442176872376911], [0.6967067093471654, 0.7173560908995228], [0.6216099682706644, 0.7833269096274834], [0.5403023058681398, 0.8414709848078965], [0.4535961214255773, 0.8912073600614354], [0.3623577544766734, 0.9320390859672264], [0.26749882862458735, 0.963558185417193], [0.16996714290024081, 0.9854497299884603], [0.0707372016677029, 0.9974949866040544], [-0.029199522301288815, 0.9995736030415051], [-0.12884449429552486, 0.9916648104524686], [-0.2272020946930871, 0.9738476308781951], [-0.3232895668635036, 0.9463000876874145], [-0.4161468365471424, 0.9092974268256817], [-0.5048461045998576, 0.8632093666488737], [-0.5885011172553458, 0.8084964038195901], [-0.6662760212798244, 0.74570521217672], [-0.7373937155412458, 0.6754631805511506], [-0.8011436155469337, 0.5984721441039564], [-0.8568887533689473, 0.5155013718214642], [-0.9040721420170612, 0.4273798802338298], [-0.9422223406686583, 0.33498815015590466], [-0.9709581651495907, 0.23924932921398198], [-0.9899924966004454, 0.1411200080598672], [-0.9991351502732795, 0.04158066243329049], [-0.9982947757947531, -0.058374143427580086], [-0.9874797699088649, -0.15774569414324865], [-0.9667981925794609, -0.25554110202683167], [-0.9364566872907963, -0.35078322768961984], [-0.896758416334147, -0.44252044329485246], [-0.848100031710408, -0.5298361409084934], [-0.7909677119144165, -0.6118578909427193], [-0.7259323042001399, -0.6877661591839741], [-0.6536436208636119, -0.7568024953079282], [-0.5748239465332685, -0.8182771110644108], [-0.4902608213406994, -0.8715757724135882], [-0.40079917207997545, -0.9161659367494549], [-0.30733286997841935, -0.9516020738895161], [-0.2107957994307797, -0.977530117665097], [-0.11215252693505398, -0.9936910036334645], [-0.01238866346289056, -0.9999232575641008], [0.08749898343944727, -0.9961646088358406], [0.18651236942257576, -0.9824526126243325], [0.28366218546322625, -0.9589242746631385], [0.37797774271298107, -0.9258146823277321], [0.4685166713003771, -0.8834546557201531], [0.5543743361791615, -0.8322674422239008], [0.6346928759426347, -0.7727644875559871], [0.70866977429126, -0.7055403255703919], [0.7755658785102502, -0.6312666378723208], [0.8347127848391598, -0.5506855425976376], [0.8855195169413194, -0.4646021794137566], [0.9274784307440359, -0.373876664830236], [0.960170286650366, -0.27941549819892586], [0.9832684384425847, -0.18216250427209502]], 'segments': [[0, 1], [1, 2], [2, 3], [3, 4], [4, 5], [5, 6], [6, 7], [7, 8], [8, 9], [9, 10], [10, 11], [11, 12], [12, 13], [13, 14], [14, 15], [15, 16], [16, 17], [17, 18], [18, 19], [19, 20], [20, 21], [21, 22], [22, 23], [23, 24], [24, 25], [25, 26], [26, 27], [27, 28], [28, 29], [29, 30], [30, 31], [31, 32], [32, 33], [33, 34], [34, 35], [35, 36], [36, 37], [37, 38], [38, 39], [39, 40], [40, 41], [41, 42], [42, 43], [43, 44], [44, 45], [45, 46], [46, 47], [47, 48], [48, 49], [49, 50], [50, 51], [51, 52], [52, 53], [53, 54], [54, 55], [55, 56], [56, 57], [57, 58], [58, 59], [59, 60], [60, 61], [61, 0]]}, <meshpy.triangle.MeshInfo object at 0x00000250A50AFC90>, <meshpy.triangle.MeshInfo object at 0x00000250A50AFBF0>, None"
     ]
    }
   ],
   "source": [
    "# Definir los parámetros del dominio\n",
    "R = 1.0 # Radio del círculo\n",
    "\n",
    "# Crear la malla triangular del dominio\n",
    "points = []\n",
    "segments = []\n",
    "triangles = []\n",
    "\n",
    "# Definir la discretización de la malla\n",
    "h = 0.1\n",
    "\n",
    "# Crear los puntos en el borde del círculo\n",
    "for i in range(int(2*np.pi/h)):\n",
    "    theta = i*h\n",
    "    x = R*np.cos(theta)\n",
    "    y = R*np.sin(theta)\n",
    "    points.append([x, y])\n",
    "\n",
    "# Crear los segmentos del borde del círculo\n",
    "for i in range(len(points)-1):\n",
    "    segments.append([i, i+1])\n",
    "segments.append([len(points)-1, 0])\n",
    "\n",
    "# Crear la malla triangular del círculo\n",
    "# mesh = triangle.build({'vertices': points, 'segments': segments}, max_volume=h**2)\n",
    "mesh = triangle.build({'vertices': points, 'segments': segments}, max_volume=h**2, volume_constraints=True)\n",
    "\n",
    "\n",
    "# Extraer los puntos y las caras de la malla triangular\n",
    "x = mesh.points\n",
    "triangles = mesh.elements\n",
    "\n",
    "# Definir los parámetros de la ecuación\n",
    "k = 10.0\n",
    "a = 0.5\n",
    "A = 1.0/(12.0*R**2)\n",
    "B = 1.0/(12.0*R**2)"
   ]
  },
  {
   "cell_type": "code",
   "execution_count": null,
   "metadata": {},
   "outputs": [
    {
     "ename": "NameError",
     "evalue": "name 'points' is not defined",
     "output_type": "error",
     "traceback": [
      "\u001b[1;31m---------------------------------------------------------------------------\u001b[0m",
      "\u001b[1;31mNameError\u001b[0m                                 Traceback (most recent call last)",
      "Cell \u001b[1;32mIn[5], line 6\u001b[0m\n\u001b[0;32m      3\u001b[0m \u001b[39mimport\u001b[39;00m \u001b[39mmatplotlib\u001b[39;00m\u001b[39m.\u001b[39;00m\u001b[39mtri\u001b[39;00m \u001b[39mas\u001b[39;00m \u001b[39mtri\u001b[39;00m\n\u001b[0;32m      5\u001b[0m \u001b[39m# Crear un objeto de triangulación a partir de los puntos y las caras de la malla triangular\u001b[39;00m\n\u001b[1;32m----> 6\u001b[0m points_np \u001b[39m=\u001b[39m np\u001b[39m.\u001b[39marray(points)\n\u001b[0;32m      7\u001b[0m triang \u001b[39m=\u001b[39m tri\u001b[39m.\u001b[39mTriangulation(points_np[:, \u001b[39m0\u001b[39m], points_np[:, \u001b[39m1\u001b[39m], triangles)\n\u001b[0;32m      9\u001b[0m \u001b[39m# Graficar la triangulación\u001b[39;00m\n",
      "\u001b[1;31mNameError\u001b[0m: name 'points' is not defined"
     ]
    }
   ],
   "source": [
    "import numpy as np\n",
    "import matplotlib.pyplot as plt\n",
    "import matplotlib.tri as tri\n",
    "\n",
    "# Crear un objeto de triangulación a partir de los puntos y las caras de la malla triangular\n",
    "points_np = np.array(points)\n",
    "triang = tri.Triangulation(points_np[:, 0], points_np[:, 1], triangles)\n",
    "\n",
    "# Graficar la triangulación\n",
    "fig, ax = plt.subplots()\n",
    "ax.triplot(triang, linewidth=0.5, color='k')\n",
    "ax.set_aspect('equal', 'box')\n",
    "ax.set_xlim(-R, R)\n",
    "ax.set_ylim(-R, R)\n",
    "ax.set_xlabel('x')\n",
    "ax.set_ylabel('y')\n",
    "ax.set_title('Triangulación del dominio circular')\n",
    "plt.show()\n"
   ]
  },
  {
   "cell_type": "code",
   "execution_count": null,
   "metadata": {},
   "outputs": [],
   "source": []
  },
  {
   "cell_type": "code",
   "execution_count": null,
   "metadata": {},
   "outputs": [],
   "source": [
    "# Definir la red neuronal para aproximar la solución de la ecuación\n",
    "class PINN(torch.nn.Module):\n",
    "    def __init__(self):\n",
    "        super(PINN, self).__init__()\n",
    "        self.fc1 = torch.nn.Linear(2, 50)\n",
    "        self.fc2 = torch.nn.Linear(50, 50)\n",
    "        self.fc3 = torch.nn.Linear(50, 1)\n",
    "        \n",
    "    def forward(self, x):\n",
    "        x = torch.tanh(self.fc1(x))\n",
    "        x = torch.tanh(self.fc2(x))\n",
    "        x = self.fc3(x)\n",
    "        return x\n",
    "    \n",
    "# Definir la red neuronal para aproximar la función no lineal q\n",
    "class NonlinearModel(torch.nn.Module):\n",
    "    def __init__(self):\n",
    "        super(NonlinearModel, self).__init__()\n",
    "        self.fc1 = torch.nn.Linear(1, 50)\n",
    "        self.fc2 = torch.nn.Linear(50, 50)\n",
    "        self.fc3 = torch.nn.Linear(50, 1)\n",
    "        \n",
    "    def forward(self, u):\n",
    "        u = torch.tanh(self.fc1(u))\n",
    "        u = torch.tanh(self.fc2(u))\n",
    "        u = self.fc3(u)\n",
    "        return u\n"
   ]
  },
  {
   "cell_type": "code",
   "execution_count": null,
   "metadata": {},
   "outputs": [],
   "source": [
    "# Define la función de pérdida\n",
    "def loss():\n",
    "    # Samplear puntos aleatorios para la función de pérdida\n",
    "    idx = np.random.choice(triangles.shape[0], batch_size, replace=False)\n",
    "    x = x[triangles[idx], :]\n",
    "    x = torch.tensor(x, requires_grad=True, dtype=torch.float32)\n",
    "    \n",
    "    # Calcular la solución aproximada\n",
    "    u = model(x)\n",
    "    \n",
    "    # Calcular las derivadas de la solución aproximada\n",
    "    u_x, u_y = torch.autograd.grad(u, x, grad_outputs=torch.ones_like(u), create_graph=True)[0].unbind(1)\n",
    "    u_xx = torch.autograd.grad(u_x, x, grad_outputs=torch.ones_like(u), create_graph=True)[0][:, 0]\n",
    "    u_yy = torch.autograd.grad(u_y, x, grad_outputs=torch.ones_like(u), create_graph=True)[0][:, 1]\n",
    "    \n",
    "    # Calcular la solución exacta\n",
    "    u_exact = torch.zeros([batch_size, 1])\n",
    "    r = torch.sqrt(x[:, 0]**2 + x[:, 1]**2)\n",
    "    u_exact[r <= a] = r[r <= a]**2\n",
    "    \n",
    "    # Calcular la función no lineal q y su aproximación\n",
    "    q_exact = torch.tanh(k*(u_exact-a))\n",
    "    q_approx = q_model(u)\n",
    "    \n",
    "    # Calcular la función de pérdida de las condiciones de borde\n",
    "    loss_bcs = torch.mean(torch.square(u - u_exact))\n",
    "    \n",
    "    # Calcular la función de pérdida de la ecuación diferencial\n",
    "    H = 1/2 + 1/np.pi*torch.atan(k*(r-a))\n",
    "    f = H*(r**2 - a)*q_approx\n",
    "    residual = A*u_xx + B*u_yy - f\n",
    "    loss_res = torch.mean(torch.square(residual))\n",
    "    \n",
    "    # Calcular la función de pérdida de la aproximación de la función no lineal q\n",
    "    loss_nonlinear = torch.mean(torch.square(q_model(u_exact) - q_exact))\n",
    "    \n",
    "    # Retornar la suma de las funciones de pérdida\n",
    "    return loss_bcs + loss_res + loss_nonlinear\n"
   ]
  },
  {
   "cell_type": "code",
   "execution_count": null,
   "metadata": {},
   "outputs": [],
   "source": [
    "# Definir el optimizador y el tamaño del lote\n",
    "optimizer = torch.optim.Adam(list(model.parameters()) + list(q_model.parameters()), lr=1e-3)\n",
    "batch_size = 100\n",
    "\n",
    "# Entrenar la red neuronal\n",
    "for epoch in range(10000):\n",
    "    optimizer.zero_grad()\n",
    "    loss().backward()\n",
    "    optimizer.step()\n"
   ]
  },
  {
   "cell_type": "code",
   "execution_count": null,
   "metadata": {},
   "outputs": [],
   "source": [
    "import matplotlib.pyplot as plt\n",
    "\n",
    "# Crear la malla de puntos regular en el dominio circular\n",
    "n = 100\n",
    "x = np.linspace(-R, R, n)\n",
    "y = np.linspace(-R, R, n)\n",
    "xx, yy = np.meshgrid(x, y)\n",
    "xx = xx.flatten()\n",
    "yy = yy.flatten()\n",
    "r = np.sqrt(xx**2 + yy**2)\n",
    "xx = xx[r <= R]\n",
    "yy = yy[r <= R]\n",
    "\n",
    "# Utilizar la red neuronal para aproximar la solución en cada punto de la malla\n",
    "x_eval = torch.tensor(np.column_stack((xx, yy)), dtype=torch.float32)\n",
    "u_eval = model(x_eval).detach().numpy()\n",
    "\n",
    "# Graficar la solución aproximada\n",
    "u_plot = np.zeros([n, n])\n",
    "u_plot[r <= R] = u_eval\n",
    "plt.imshow(u_plot, extent=[-R, R, -R, R])\n",
    "plt.colorbar()\n",
    "plt.title(\"Solución aproximada de la ecuación biarmónica\")\n",
    "plt.xlabel(\"x\")\n",
    "plt.ylabel(\"y\")\n",
    "plt.show()\n"
   ]
  }
 ],
 "metadata": {
  "kernelspec": {
   "display_name": "PDEs",
   "language": "python",
   "name": "python3"
  },
  "language_info": {
   "codemirror_mode": {
    "name": "ipython",
    "version": 3
   },
   "file_extension": ".py",
   "mimetype": "text/x-python",
   "name": "python",
   "nbconvert_exporter": "python",
   "pygments_lexer": "ipython3",
   "version": "3.10.9"
  },
  "orig_nbformat": 4
 },
 "nbformat": 4,
 "nbformat_minor": 2
}
